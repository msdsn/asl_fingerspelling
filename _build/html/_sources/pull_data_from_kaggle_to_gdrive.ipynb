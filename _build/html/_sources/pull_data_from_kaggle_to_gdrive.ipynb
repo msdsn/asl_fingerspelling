{
 "cells": [
  {
   "cell_type": "markdown",
   "metadata": {},
   "source": [
    "# Get Data From Kaggle To Gdrive"
   ]
  },
  {
   "cell_type": "markdown",
   "metadata": {
    "colab_type": "text",
    "id": "view-in-github"
   },
   "source": [
    "<a href=\"https://colab.research.google.com/github/msdsn/asl_fingerspelling/blob/main/pull_data_from_kaggle_to_gdrive.ipynb\" target=\"_parent\"><img src=\"https://colab.research.google.com/assets/colab-badge.svg\" alt=\"Open In Colab\"/></a>"
   ]
  },
  {
   "cell_type": "code",
   "execution_count": null,
   "metadata": {
    "colab": {
     "base_uri": "https://localhost:8080/"
    },
    "id": "qpD4WyJ5Huvl",
    "outputId": "4dcd6e68-0943-40db-d916-bd26090b4db5"
   },
   "outputs": [
    {
     "name": "stdout",
     "output_type": "stream",
     "text": [
      "Drive already mounted at /content/drive; to attempt to forcibly remount, call drive.mount(\"/content/drive\", force_remount=True).\n"
     ]
    }
   ],
   "source": [
    "from google.colab import drive\n",
    "drive.mount('/content/drive')\n",
    "\n",
    "!mkdir -p ~/.kaggle\n",
    "!cp kaggle.json ~/.kaggle/\n",
    "!chmod 600 ~/.kaggle/kaggle.json  # Kaggle API anahtarını ayarlar"
   ]
  },
  {
   "cell_type": "code",
   "execution_count": null,
   "metadata": {
    "colab": {
     "base_uri": "https://localhost:8080/"
    },
    "id": "JO_ZjmTbzBwr",
    "outputId": "ae82d2d6-0aa5-482f-e70a-b4049aa8ce6b"
   },
   "outputs": [
    {
     "name": "stdout",
     "output_type": "stream",
     "text": [
      "Downloading asl-fingerspelling.zip to /content/drive/My Drive/KaggleDatasets\n",
      "100% 158G/158G [37:34<00:00, 46.0MB/s]\n",
      "100% 158G/158G [37:34<00:00, 75.1MB/s]\n"
     ]
    }
   ],
   "source": [
    "# Veriyi doğrudan Google Drive klasörüne indirir\n",
    "!kaggle competitions download -c asl-fingerspelling -p /content/drive/My\\ Drive/KaggleDatasets/"
   ]
  },
  {
   "cell_type": "code",
   "execution_count": null,
   "metadata": {
    "id": "y2fx2-iE0C9S"
   },
   "outputs": [],
   "source": []
  }
 ],
 "metadata": {
  "colab": {
   "authorship_tag": "ABX9TyMcwQMQQBWmg56dxvG+rYNz",
   "gpuType": "V100",
   "include_colab_link": true,
   "machine_shape": "hm",
   "mount_file_id": "1W_ukyU74_gzJ4cTPbquYUNDKYoAZ2h78",
   "provenance": []
  },
  "kernelspec": {
   "display_name": "Python 3 (ipykernel)",
   "language": "python",
   "name": "python3"
  },
  "language_info": {
   "codemirror_mode": {
    "name": "ipython",
    "version": 3
   },
   "file_extension": ".py",
   "mimetype": "text/x-python",
   "name": "python",
   "nbconvert_exporter": "python",
   "pygments_lexer": "ipython3",
   "version": "3.10.8"
  }
 },
 "nbformat": 4,
 "nbformat_minor": 1
}
